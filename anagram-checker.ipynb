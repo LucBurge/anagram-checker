{
 "cells": [
  {
   "cell_type": "code",
   "execution_count": 3,
   "metadata": {},
   "outputs": [
    {
     "name": "stdout",
     "output_type": "stream",
     "text": [
      "Please enter two words to check if they are anagrams\n",
      "Word 1: Hello \n",
      "Word 2: World\n",
      "These are NOT anagrams\n"
     ]
    }
   ],
   "source": [
    "#Take 2 user inputs, word 1 and word 2\n",
    "print(\"Please enter two words to check if they are anagrams\")\n",
    "word1 = input(\"Word 1: \")\n",
    "word2 = input(\"Word 2: \")\n",
    "\n",
    "#Arrange characters from each in the same order and check if the characters are an exact match \n",
    "def isAnagram(word1, word2):\n",
    "    return sorted(word1) == sorted(word2)\n",
    "\n",
    "#Display whether the words are anagrams or not\n",
    "print()\n",
    "if isAnagram(word1, word2) == True:\n",
    "              print(\"These are anagrams\")\n",
    "else:\n",
    "              print(\"These are NOT anagrams\")\n",
    "     "
   ]
  },
  {
   "cell_type": "code",
   "execution_count": null,
   "metadata": {},
   "outputs": [],
   "source": []
  }
 ],
 "metadata": {
  "kernelspec": {
   "display_name": "Python 3",
   "language": "python",
   "name": "python3"
  },
  "language_info": {
   "codemirror_mode": {
    "name": "ipython",
    "version": 3
   },
   "file_extension": ".py",
   "mimetype": "text/x-python",
   "name": "python",
   "nbconvert_exporter": "python",
   "pygments_lexer": "ipython3",
   "version": "3.8.3"
  }
 },
 "nbformat": 4,
 "nbformat_minor": 4
}
